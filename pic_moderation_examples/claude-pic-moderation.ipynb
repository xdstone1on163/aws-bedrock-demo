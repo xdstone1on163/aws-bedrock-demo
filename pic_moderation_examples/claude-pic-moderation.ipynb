{
 "cells": [
  {
   "cell_type": "code",
   "execution_count": null,
   "id": "7ce89ec7-1c82-4290-8627-81b13787c207",
   "metadata": {
    "tags": []
   },
   "outputs": [],
   "source": [
    "!pip3 install -qU boto3 \n",
    "!pip3 install -qU Pillow"
   ]
  },
  {
   "cell_type": "code",
   "execution_count": null,
   "id": "df65cf28-eb19-46f4-a304-64d7fdaf4253",
   "metadata": {
    "tags": []
   },
   "outputs": [],
   "source": [
    "import json\n",
    "import os\n",
    "import glob\n",
    "import sys\n",
    "import boto3\n",
    "import base64\n",
    "import requests\n",
    "import time\n",
    "import pprint\n",
    "from datetime import datetime\n",
    "from IPython.display import Image, display"
   ]
  },
  {
   "cell_type": "code",
   "execution_count": null,
   "id": "1cc1090f-709d-4dbd-a589-c2dcc7828f55",
   "metadata": {
    "tags": []
   },
   "outputs": [],
   "source": [
    "#get modelARN\n",
    "region = 'us-east-1'#'us-west-2' #\n",
    "boto3_bedrock = boto3.client('bedrock',region)\n",
    "boto3_bedrock.list_foundation_models()"
   ]
  },
  {
   "cell_type": "code",
   "execution_count": null,
   "id": "7962404d-9acd-496e-b1b8-3aa8ea414b0c",
   "metadata": {
    "tags": []
   },
   "outputs": [],
   "source": [
    "!wget https://cats.com/wp-content/uploads/2020/10/tabby-maine-coon-768x384.jpg"
   ]
  },
  {
   "cell_type": "code",
   "execution_count": null,
   "id": "ba62b6cc-b3ab-4312-b52b-4ae172a55c3a",
   "metadata": {
    "tags": []
   },
   "outputs": [],
   "source": [
    "stream = False\n",
    "# Function to encode the image\n",
    "def encode_image(image_path):\n",
    "  with open(image_path, \"rb\") as image_file:\n",
    "    return base64.b64encode(image_file.read()).decode('utf-8')"
   ]
  },
  {
   "cell_type": "code",
   "execution_count": null,
   "id": "6637e2c1-3019-41c2-a496-6d9f355ab544",
   "metadata": {
    "tags": []
   },
   "outputs": [],
   "source": [
    "#\"modelId\": \"anthropic.claude-3-sonnet-20240229-v1:0\"\n",
    "# non streaming mode\n",
    "def anthropic_claude_3(modelId,image_path,max_tokens,system_prompt):\n",
    "    bedrock_runtime = boto3.client('bedrock-runtime')\n",
    "    base64_image = encode_image(image_path)\n",
    "    payload = {\n",
    "        \"modelId\": modelId,\n",
    "        \"contentType\": \"application/json\",\n",
    "        \"accept\": \"application/json\",\n",
    "        \"body\": {\n",
    "            \"anthropic_version\": \"bedrock-2023-05-31\",\n",
    "            \"system\": system_prompt,\n",
    "            \"max_tokens\": max_tokens,\n",
    "            \"messages\": [\n",
    "                {\n",
    "                    \"role\": \"user\",\n",
    "                    \"content\": [\n",
    "                        {\n",
    "                            \"type\": \"image\",\n",
    "                            \"source\": {\n",
    "                                \"type\": \"base64\",\n",
    "                                \"media_type\": \"image/png\",\n",
    "                                \"data\": base64_image\n",
    "                            }\n",
    "                        },\n",
    "                        {\n",
    "                            \"type\": \"text\",\n",
    "                            #\"text\": \"Write me a detailed description of these two photos, and then a poem talking about it.\"\n",
    "                            \"text\": f\"这是我审查的结果：\"\n",
    "                        }\n",
    "                    ]\n",
    "                }\n",
    "            ]\n",
    "        }\n",
    "    }\n",
    "\t\n",
    "    # Convert the payload to bytes\n",
    "    body_bytes = json.dumps(payload['body']).encode('utf-8')\n",
    "\t\n",
    "    # Invoke the model\n",
    "    response = bedrock_runtime.invoke_model(\n",
    "        body=body_bytes,\n",
    "        contentType=payload['contentType'],\n",
    "        accept=payload['accept'],\n",
    "        modelId=payload['modelId']\n",
    "    )\n",
    "\t\n",
    "    # Process the response\n",
    "    response_body = json.loads(response['body'].read().decode('utf-8'))\n",
    "    pprint.pprint(response_body)\n",
    "    #return round(end-start,2),response_body[\"usage\"][\"input_tokens\"],response_body[\"usage\"][\"output_tokens\"]\n",
    "    return round(float(response['ResponseMetadata']['HTTPHeaders']['x-amzn-bedrock-invocation-latency'])/1000,2),int(response['ResponseMetadata']['HTTPHeaders']['x-amzn-bedrock-input-token-count']),int(response['ResponseMetadata']['HTTPHeaders']['x-amzn-bedrock-output-token-count'])\n",
    "\t"
   ]
  },
  {
   "cell_type": "code",
   "execution_count": null,
   "id": "4395fd41-21de-4ff0-adb9-9d4a8a0e6d55",
   "metadata": {
    "tags": []
   },
   "outputs": [],
   "source": [
    "#\"modelId\": \"anthropic.claude-3-sonnet-20240229-v1:0\"\n",
    "# streaming mode\n",
    "def anthropic_claude_3_stream(modelId,image_path,max_tokens,system_prompt):\n",
    "    bedrock_runtime = boto3.client('bedrock-runtime')\n",
    "    base64_image = encode_image(image_path)\n",
    "    payload = {\n",
    "        \"modelId\": modelId,\n",
    "        \"contentType\": \"application/json\",\n",
    "        \"accept\": \"application/json\",\n",
    "        \"body\": {\n",
    "            \"anthropic_version\": \"bedrock-2023-05-31\",\n",
    "            \"system\": system_prompt,\n",
    "            \"max_tokens\": max_tokens,\n",
    "            \"messages\": [\n",
    "                {\n",
    "                    \"role\": \"user\",\n",
    "                    \"content\": [\n",
    "                        {\n",
    "                            \"type\": \"image\",\n",
    "                            \"source\": {\n",
    "                                \"type\": \"base64\",\n",
    "                                \"media_type\": \"image/png\",\n",
    "                                \"data\": base64_image\n",
    "                            }\n",
    "                        },\n",
    "                        {\n",
    "                            \"type\": \"text\",\n",
    "                            #\"text\": \"Write me a detailed description of these two photos, and then a poem talking about it.\"\n",
    "                            \"text\": f\"这是我审查的结果：\"\n",
    "                        }\n",
    "                    ]\n",
    "                }\n",
    "            ],\n",
    "            \"temperature\": 1,\n",
    "            \"top_p\": 0.999,\n",
    "            \"top_k\": 250,\n",
    "\"stop_sequences\": ['\\n\\nHuman:']\n",
    "        }\n",
    "    }\n",
    "\t\n",
    "    # Convert the payload to bytes\n",
    "    body_bytes = json.dumps(payload['body']).encode('utf-8')\n",
    "\t\n",
    "    # Invoke the model\n",
    "    response = bedrock_runtime.invoke_model_with_response_stream(\n",
    "        body=body_bytes, modelId=payload['modelId'], accept=payload['accept'], contentType=payload['contentType']\n",
    "    )\n",
    "    stream = response.get('body')\n",
    "    chunk_obj = {}\n",
    "\t\n",
    "    if stream:\n",
    "        for event in stream:\n",
    "            chunk = event.get('chunk')\n",
    "            if chunk:\n",
    "                chunk_obj = json.loads(chunk.get('bytes').decode())\n",
    "                pprint.pprint(chunk_obj)\n",
    "\t\n",
    "    # Process the response\n",
    "    #response_body = json.loads(response['body'].read().decode('utf-8'))\n",
    "    #pprint.pprint(response_body)\n",
    "    {'type': 'message_stop', 'amazon-bedrock-invocationMetrics': {'inputTokenCount': 92, 'outputTokenCount': 277, 'invocationLatency': 3679, 'firstByteLatency': 677}}\n",
    "\t\n",
    "    return round(float(chunk_obj['amazon-bedrock-invocationMetrics']['firstByteLatency'])/1000,2),round(float(chunk_obj['amazon-bedrock-invocationMetrics']['invocationLatency'])/1000,2),chunk_obj['amazon-bedrock-invocationMetrics']['inputTokenCount'],chunk_obj['amazon-bedrock-invocationMetrics']['outputTokenCount']"
   ]
  },
  {
   "cell_type": "code",
   "execution_count": null,
   "id": "4da1bc34-b564-426a-afbc-98747d5d3115",
   "metadata": {
    "tags": []
   },
   "outputs": [],
   "source": [
    "# 调用结果\n",
    "image_path = \"tabby-maine-coon-768x384.jpg\"\n",
    "max_tokens = 200\n",
    "system = \"\"\"你是一个图片审核的AI专家，你需要协助人类进行图片审核的工作，你审核图片的标准如下\n",
    "1. 图片需要是真人，女生，五官清晰，五官端正，图片包含有完整的脸部内容，\n",
    "2. 图片不能够只露出眼睛，不能带面罩和口罩\n",
    "2. 图片不能是动漫风格、不能男女混合（不能出现男性）、不能出现小孩、不能是纯风景\n",
    "3. 图片不能太小，也就是图片的分辨率要高，同时尺寸不能小于480*768\n",
    "4. 图片除非裸露了胸部和下体才可以判定为不通过，如果只是露出肩膀，露出肚脐，露出大腿和小腿这些都属于可以判定为通过，也就是整体构图不露骨就可以通过\n",
    "5. 图片严禁涉及血腥、政治的题材，但是如果只是穿着和宗教风俗有关的衣服，其他方面没有问题，应该判为通过\n",
    "你的输出请按照下面的json格式给出,如果不通过，请给出原因:\n",
    "{ \"结果\" = \"通过\" or \"不通过\",\n",
    "  \"图片描述\" = \"xxxxxx\",\n",
    "  \"不通过的原因\" = \"xxxx\"\n",
    "}\n",
    "\"\"\""
   ]
  },
  {
   "cell_type": "code",
   "execution_count": null,
   "id": "194e3f3d-72e4-4625-9ea1-803c71a3c37a",
   "metadata": {
    "tags": []
   },
   "outputs": [],
   "source": [
    "#haiku\n",
    "print(\"Haiku:\")\n",
    "modelId = \"anthropic.claude-3-haiku-20240307-v1:0\"\n"
   ]
  },
  {
   "cell_type": "code",
   "execution_count": null,
   "id": "dd2ac4d7-b593-442a-aee6-bf4006b4de87",
   "metadata": {},
   "outputs": [],
   "source": [
    "print(anthropic_claude_3(modelId,image_path,max_tokens,system))"
   ]
  },
  {
   "cell_type": "code",
   "execution_count": null,
   "id": "a6b9251d-ce4c-4033-aa26-cde142410bec",
   "metadata": {},
   "outputs": [],
   "source": [
    "print(anthropic_claude_3_stream(modelId,image_path,max_tokens,system))\t"
   ]
  },
  {
   "cell_type": "code",
   "execution_count": null,
   "id": "cd19a661-6375-4ce9-ade8-665ca55304ae",
   "metadata": {
    "tags": []
   },
   "outputs": [],
   "source": [
    "#sonnet\n",
    "print(\"Sonnet:\")\n",
    "modelId = \"anthropic.claude-3-sonnet-20240229-v1:0\"\n"
   ]
  },
  {
   "cell_type": "code",
   "execution_count": null,
   "id": "e11cd3a5-95ae-465e-b8c8-46dfa97579f5",
   "metadata": {},
   "outputs": [],
   "source": [
    "print(anthropic_claude_3(modelId,image_path,max_tokens,system))"
   ]
  },
  {
   "cell_type": "code",
   "execution_count": null,
   "id": "49b7566a-70a3-423f-aefd-4b11c5763855",
   "metadata": {},
   "outputs": [],
   "source": [
    "print(anthropic_claude_3_stream(modelId,image_path,max_tokens,system))\t\t"
   ]
  },
  {
   "cell_type": "code",
   "execution_count": null,
   "id": "5a0bec35-2ec9-4929-9b01-8474340bf4bc",
   "metadata": {
    "tags": []
   },
   "outputs": [],
   "source": [
    "# 指定你的图片目录路径\n",
    "directory_path = 'zhubo_moment_pics/disqualified'\n",
    "# 创建图片文件的完整路径模式\n",
    "pattern = os.path.join(directory_path, '*.jpg')\n",
    "\n",
    "# 使用glob找到所有的.jpg文件\n",
    "image_files = glob.glob(pattern)\n",
    "\n",
    "# 如果没有找到文件，打印消息\n",
    "if not image_files:\n",
    "    print(\"No defined pattern files found in the directory.\")\n",
    "else:\n",
    "    # 打印每一个文件的路径\n",
    "    for image_file in image_files:\n",
    "        display(Image(filename=image_file))\n",
    "        print(anthropic_claude_3(modelId,image_file,max_tokens,system))\n"
   ]
  },
  {
   "cell_type": "code",
   "execution_count": null,
   "id": "d62f1d9f-716e-4793-bc5d-fb2606417e20",
   "metadata": {},
   "outputs": [],
   "source": []
  }
 ],
 "metadata": {
  "kernelspec": {
   "display_name": "conda_pytorch_p310",
   "language": "python",
   "name": "conda_pytorch_p310"
  },
  "language_info": {
   "codemirror_mode": {
    "name": "ipython",
    "version": 3
   },
   "file_extension": ".py",
   "mimetype": "text/x-python",
   "name": "python",
   "nbconvert_exporter": "python",
   "pygments_lexer": "ipython3",
   "version": "3.10.13"
  }
 },
 "nbformat": 4,
 "nbformat_minor": 5
}
